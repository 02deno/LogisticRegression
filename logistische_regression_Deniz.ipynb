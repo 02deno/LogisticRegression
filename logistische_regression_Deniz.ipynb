{
  "cells": [
    {
      "cell_type": "markdown",
      "metadata": {
        "id": "lKZ4-E_ycsFE"
      },
      "source": [
        "# Logistic Regression from a Neural Network Point of View \n"
      ]
    },
    {
      "cell_type": "markdown",
      "metadata": {
        "id": "5w6Y_5fmf2eM"
      },
      "source": [
        "## **1 - Imports**"
      ]
    },
    {
      "cell_type": "code",
      "execution_count": 1,
      "metadata": {
        "id": "EuYKExRXcsFK"
      },
      "outputs": [],
      "source": [
        "import numpy as np                  # Scientific computing\n",
        "import matplotlib.pyplot as plt     # plot graphs\n",
        "import matplotlib.lines as mlines\n",
        "import sklearn.datasets\n",
        "import h5py                         # work with dataset stored in H5 files\n",
        "import scipy                        # use your own pictures\n",
        "from PIL import Image               # use your own pictures\n",
        "from scipy import ndimage\n",
        "from scipy.special import expit     # expit is the sigmoid function\n",
        "import pandas as pd\n",
        "from numpy import random\n",
        "\n",
        "%matplotlib inline"
      ]
    },
    {
      "cell_type": "markdown",
      "metadata": {
        "id": "JKSLABRTcsFW"
      },
      "source": [
        "## **2 - Dataset & Preprocessing**\n",
        "\n",
        "Input, Output: X1_, Y1_\n",
        "\n",
        "Number of features: n = 2\n",
        "\n",
        "Number of instances/samples: m = 100"
      ]
    },
    {
      "cell_type": "code",
      "source": [
        "# Generate the data points. \n",
        "# n = number of feautures\n",
        "# m = number of instances/samples\n",
        "# return X: array containing one data point per column : shape (n,m) \n",
        "def generate_points(m, n, seed=43):\n",
        "    random.seed(seed)\n",
        "    X = np.random.uniform(-1, 1, size=(m, n))\n",
        "    return X"
      ],
      "metadata": {
        "id": "3WHA0n1vRT5q"
      },
      "execution_count": 2,
      "outputs": []
    },
    {
      "cell_type": "code",
      "source": [
        "# Generate random decision boundary\n",
        "# return w: weight vector representing decision boundary, of shape (3,1)\n",
        "def random_boundary(seed=90):\n",
        "    rng = np.random.RandomState(seed)\n",
        "\n",
        "    # generate two random points A and B\n",
        "    # sample = np.rng.standard_normal(size=(2,2))\n",
        "    sample = rng.uniform(-1, 1, size=(2, 2))\n",
        "\n",
        "    # calculate vector w\n",
        "    x_values = sample[:,0]\n",
        "    y_values = sample[:,1] \n",
        "\n",
        "    if x_values[1] ==  x_values[0]:\n",
        "      w0 = - x_values[1] # egal, - x_values[0] ist also möglich\n",
        "      w1 = 1\n",
        "      w2 = 0\n",
        "    elif y_values[1] == y_values[0] :\n",
        "      w0 = - y_values[1]\n",
        "      w1 = 0\n",
        "      w2 = 1\n",
        "    else : \n",
        "      m = (y_values[1] - y_values[0])/ (x_values[1] - x_values[0])\n",
        "      w0 = -m*x_values[0] + y_values[0]\n",
        "      w1 = m\n",
        "      w2 = -1\n",
        "      \n",
        "    w = [w0, w1, w2]\n",
        "    w = np.reshape(w, (3,1))\n",
        "    return w"
      ],
      "metadata": {
        "id": "Oy767GbOSLyL"
      },
      "execution_count": 3,
      "outputs": []
    },
    {
      "cell_type": "code",
      "source": [
        "def predict(X, w):\n",
        "\n",
        "  pred_class = []\n",
        "  preds = scipy.special.expit(np.matmul(np.transpose(w), X))\n",
        "  # if probability >= 0.5 --> round up to 1\n",
        "  # if probability < 0.5 --> round up to 1\n",
        "  pred_class = [1 if i >= 0.5 else 0 for i in preds[0]]\n",
        "  #print(preds)\n",
        "  return np.array(pred_class)"
      ],
      "metadata": {
        "id": "rs5Gp3DGN3WA"
      },
      "execution_count": 4,
      "outputs": []
    },
    {
      "cell_type": "code",
      "source": [
        "X1_raw = generate_points(m = 100, n = 2)\n",
        "X1_raw"
      ],
      "metadata": {
        "colab": {
          "base_uri": "https://localhost:8080/"
        },
        "id": "PRm6ktZKR3Hh",
        "outputId": "a3d49492-7970-4df8-a2dd-b4213a08df96"
      },
      "execution_count": 5,
      "outputs": [
        {
          "output_type": "execute_result",
          "data": {
            "text/plain": [
              "array([[-0.76989087,  0.21813308],\n",
              "       [-0.73321807, -0.51882076],\n",
              "       [-0.34572189,  0.71827498],\n",
              "       [ 0.33218043,  0.08232442],\n",
              "       [-0.94197235,  0.46749659],\n",
              "       [-0.21009996,  0.60409424],\n",
              "       [-0.49115775, -0.88623013],\n",
              "       [ 0.73329728, -0.55794201],\n",
              "       [-0.1900211 , -0.36780706],\n",
              "       [-0.8466746 ,  0.68644939],\n",
              "       [ 0.6978783 ,  0.94293018],\n",
              "       [-0.22924617,  0.90897625],\n",
              "       [-0.10848328,  0.3394493 ],\n",
              "       [-0.8349999 ,  0.79419716],\n",
              "       [-0.403993  , -0.47539035],\n",
              "       [-0.9897409 ,  0.08640503],\n",
              "       [-0.04880727,  0.27274736],\n",
              "       [ 0.95640827,  0.81732552],\n",
              "       [ 0.82030615,  0.05051134],\n",
              "       [-0.7919621 , -0.63817081],\n",
              "       [ 0.90608044, -0.17609403],\n",
              "       [ 0.73003424,  0.34435456],\n",
              "       [ 0.25757159, -0.44888245],\n",
              "       [ 0.79349454, -0.58621726],\n",
              "       [-0.19118951,  0.98714498],\n",
              "       [ 0.47145416, -0.10987718],\n",
              "       [ 0.12132634, -0.17748902],\n",
              "       [ 0.45397598, -0.20160623],\n",
              "       [ 0.34029033,  0.40943122],\n",
              "       [ 0.21911974,  0.08006893],\n",
              "       [-0.5878363 , -0.60167705],\n",
              "       [ 0.59147773, -0.41933444],\n",
              "       [ 0.31192566, -0.40076645],\n",
              "       [-0.71104324, -0.19208667],\n",
              "       [-0.37946095, -0.51320397],\n",
              "       [ 0.17620809, -0.50931349],\n",
              "       [ 0.49554122,  0.4402933 ],\n",
              "       [ 0.39052173, -0.79451444],\n",
              "       [ 0.88728486,  0.00667927],\n",
              "       [ 0.79934724, -0.60284023],\n",
              "       [ 0.18889837,  0.93081716],\n",
              "       [ 0.99739649, -0.95166275],\n",
              "       [-0.03739333, -0.41715462],\n",
              "       [-0.87255886,  0.1392488 ],\n",
              "       [-0.98983343,  0.22255518],\n",
              "       [ 0.74036295,  0.76720293],\n",
              "       [ 0.90863897,  0.47972764],\n",
              "       [-0.63057408, -0.13064336],\n",
              "       [ 0.77179899, -0.48990744],\n",
              "       [-0.11337461,  0.23387395],\n",
              "       [-0.79329498, -0.01978068],\n",
              "       [-0.9105912 , -0.37674506],\n",
              "       [ 0.50407937,  0.43099817],\n",
              "       [ 0.88310849,  0.55379073],\n",
              "       [-0.56954297,  0.80994236],\n",
              "       [ 0.10452829,  0.68979578],\n",
              "       [ 0.84497897,  0.65792256],\n",
              "       [-0.211604  ,  0.19637627],\n",
              "       [-0.13460384,  0.38829427],\n",
              "       [-0.03062702, -0.74347932],\n",
              "       [ 0.28874099, -0.59058757],\n",
              "       [ 0.48991425, -0.78876559],\n",
              "       [-0.98538101, -0.33102202],\n",
              "       [ 0.93851101,  0.40195138],\n",
              "       [-0.17262893, -0.75849566],\n",
              "       [-0.87927291,  0.45242335],\n",
              "       [ 0.81090197, -0.96794816],\n",
              "       [ 0.16828166,  0.4572081 ],\n",
              "       [-0.41560491,  0.04559523],\n",
              "       [ 0.62970377,  0.19265396],\n",
              "       [-0.24288932, -0.84488439],\n",
              "       [-0.02618765, -0.06361219],\n",
              "       [-0.63693049, -0.85972813],\n",
              "       [ 0.01680186, -0.33629653],\n",
              "       [-0.57100436, -0.81068621],\n",
              "       [ 0.67586106, -0.28977506],\n",
              "       [ 0.65357014, -0.94807546],\n",
              "       [-0.99552085,  0.8488355 ],\n",
              "       [ 0.3478665 ,  0.98962916],\n",
              "       [-0.04098996, -0.68172501],\n",
              "       [ 0.90456611, -0.66785965],\n",
              "       [-0.26142939,  0.86911997],\n",
              "       [-0.83671773, -0.09207577],\n",
              "       [ 0.77458118, -0.36118988],\n",
              "       [ 0.92531588,  0.9947452 ],\n",
              "       [-0.02796895, -0.35741682],\n",
              "       [ 0.946878  ,  0.99743707],\n",
              "       [-0.1095738 , -0.91050861],\n",
              "       [-0.10587775,  0.4203496 ],\n",
              "       [ 0.25214266,  0.34129954],\n",
              "       [ 0.94383772,  0.32394248],\n",
              "       [-0.8170996 ,  0.17946202],\n",
              "       [-0.57683799,  0.59015127],\n",
              "       [-0.29938804,  0.00487296],\n",
              "       [ 0.40707829, -0.65674465],\n",
              "       [ 0.20211888, -0.67993078],\n",
              "       [ 0.6531568 , -0.33459674],\n",
              "       [ 0.09339437,  0.66142121],\n",
              "       [ 0.93813412, -0.34493004],\n",
              "       [-0.82325236,  0.92697825]])"
            ]
          },
          "metadata": {},
          "execution_count": 5
        }
      ]
    },
    {
      "cell_type": "code",
      "source": [
        "w = random_boundary()\n",
        "w"
      ],
      "metadata": {
        "colab": {
          "base_uri": "https://localhost:8080/"
        },
        "id": "282IZSwkSc1L",
        "outputId": "59330556-aedb-4447-fb28-4690bdcd068c"
      },
      "execution_count": 6,
      "outputs": [
        {
          "output_type": "execute_result",
          "data": {
            "text/plain": [
              "array([[-0.06211109],\n",
              "       [ 0.89713954],\n",
              "       [-1.        ]])"
            ]
          },
          "metadata": {},
          "execution_count": 6
        }
      ]
    },
    {
      "cell_type": "code",
      "source": [
        "# We need one Datapoint per column \n",
        "# X1_raw has shape (100,2), one row per instance\n",
        "# transpose to (2, 100), one column per instance\n",
        "X1 = np.transpose(X1_raw)\n",
        "\n",
        "# check shape\n",
        "print(X1.shape)"
      ],
      "metadata": {
        "colab": {
          "base_uri": "https://localhost:8080/"
        },
        "id": "bVj_T22MURou",
        "outputId": "7efb09be-fcb1-4e61-c023-3f09b20ed6bc"
      },
      "execution_count": 9,
      "outputs": [
        {
          "output_type": "stream",
          "name": "stdout",
          "text": [
            "(2, 100)\n"
          ]
        }
      ]
    },
    {
      "cell_type": "code",
      "source": [
        "# Extend every input by x_0 = 1 and check shape\n",
        "X = np.vstack((np.ones((1,100)), X1))\n",
        "\n",
        "# check shape\n",
        "print(X.shape)"
      ],
      "metadata": {
        "colab": {
          "base_uri": "https://localhost:8080/"
        },
        "id": "lrY1XdKvUd6n",
        "outputId": "b542a2e1-f959-4470-a310-962348dffa2b"
      },
      "execution_count": 10,
      "outputs": [
        {
          "output_type": "stream",
          "name": "stdout",
          "text": [
            "(3, 100)\n"
          ]
        }
      ]
    },
    {
      "cell_type": "code",
      "source": [
        "Y1_raw = predict(X, w)\n",
        "Y1_raw"
      ],
      "metadata": {
        "colab": {
          "base_uri": "https://localhost:8080/"
        },
        "id": "9rG50As2Ts5l",
        "outputId": "392c9822-0878-47da-e858-fb448bd1156d"
      },
      "execution_count": 11,
      "outputs": [
        {
          "output_type": "execute_result",
          "data": {
            "text/plain": [
              "array([0, 0, 0, 1, 0, 0, 1, 1, 1, 0, 0, 0, 0, 0, 1, 0, 0, 0, 1, 0, 1, 1,\n",
              "       1, 1, 0, 1, 1, 1, 0, 1, 1, 1, 1, 0, 1, 1, 0, 1, 1, 1, 0, 1, 1, 0,\n",
              "       0, 0, 1, 0, 1, 0, 0, 0, 0, 1, 0, 0, 1, 0, 0, 1, 1, 1, 0, 1, 1, 0,\n",
              "       1, 0, 0, 1, 1, 0, 1, 1, 1, 1, 1, 0, 0, 1, 1, 0, 0, 1, 0, 1, 0, 1,\n",
              "       0, 0, 1, 0, 0, 0, 1, 1, 1, 0, 1, 0])"
            ]
          },
          "metadata": {},
          "execution_count": 11
        }
      ]
    },
    {
      "cell_type": "code",
      "source": [
        "# reshape Y1 from (100,) to (1, 100)\n",
        "Y1 = Y1_raw.reshape(1, Y1_raw.shape[0])\n",
        "Y = Y1\n",
        "# check shape\n",
        "print(Y1.shape)"
      ],
      "metadata": {
        "colab": {
          "base_uri": "https://localhost:8080/"
        },
        "id": "AcxNg6OnVAb2",
        "outputId": "a02c2eba-2d55-412e-c367-afc2eee1a179"
      },
      "execution_count": 12,
      "outputs": [
        {
          "output_type": "stream",
          "name": "stdout",
          "text": [
            "(1, 100)\n"
          ]
        }
      ]
    },
    {
      "cell_type": "code",
      "execution_count": 13,
      "metadata": {
        "colab": {
          "base_uri": "https://localhost:8080/",
          "height": 265
        },
        "id": "7-qRefdZGmGX",
        "outputId": "c26c9cff-dfe9-4262-a57b-b22f816f9fa3"
      },
      "outputs": [
        {
          "output_type": "display_data",
          "data": {
            "text/plain": [
              "<Figure size 432x288 with 1 Axes>"
            ],
            "image/png": "[encoded data removed]"
          },
          "metadata": {
            "needs_background": "light"
          }
        }
      ],
      "source": [
        "# Visualize the data:\n",
        "fig, ax = plt.subplots()\n",
        "ax.scatter(X1_raw[:, 0], X1_raw[:, 1], marker='o', c=Y1_raw, s=25, edgecolor='k')\n",
        "\n",
        "# the decision boundary chracterized by vector w\n",
        "xp = np.array((-1,1))\n",
        "yp = -(w[1]/w[2]) * xp - (w[0]/w[2])\n",
        "\n",
        "plt.axis([-1.1, 1.1, -1.1, 1.1])\n",
        "plt.plot(xp, yp, \"r-\") # decision boundary\n",
        "plt.show()"
      ]
    },
    {
      "cell_type": "code",
      "source": [
        "df = pd.DataFrame(X)\n",
        "df = df.append(pd.DataFrame(Y), ignore_index = True)\n",
        "df"
      ],
      "metadata": {
        "colab": {
          "base_uri": "https://localhost:8080/",
          "height": 268
        },
        "id": "JLjDKG-RVq3B",
        "outputId": "92e577b8-baf1-43f8-d11c-eb5611693b9f"
      },
      "execution_count": 14,
      "outputs": [
        {
          "output_type": "execute_result",
          "data": {
            "text/plain": [
              "         0         1         2         3         4         5         6   \\\n",
              "0  1.000000  1.000000  1.000000  1.000000  1.000000  1.000000  1.000000   \n",
              "1 -0.769891 -0.733218 -0.345722  0.332180 -0.941972 -0.210100 -0.491158   \n",
              "2  0.218133 -0.518821  0.718275  0.082324  0.467497  0.604094 -0.886230   \n",
              "3  0.000000  0.000000  0.000000  1.000000  0.000000  0.000000  1.000000   \n",
              "\n",
              "         7         8         9   ...        90        91        92        93  \\\n",
              "0  1.000000  1.000000  1.000000  ...  1.000000  1.000000  1.000000  1.000000   \n",
              "1  0.733297 -0.190021 -0.846675  ...  0.943838 -0.817100 -0.576838 -0.299388   \n",
              "2 -0.557942 -0.367807  0.686449  ...  0.323942  0.179462  0.590151  0.004873   \n",
              "3  1.000000  1.000000  0.000000  ...  1.000000  0.000000  0.000000  0.000000   \n",
              "\n",
              "         94        95        96        97        98        99  \n",
              "0  1.000000  1.000000  1.000000  1.000000  1.000000  1.000000  \n",
              "1  0.407078  0.202119  0.653157  0.093394  0.938134 -0.823252  \n",
              "2 -0.656745 -0.679931 -0.334597  0.661421 -0.344930  0.926978  \n",
              "3  1.000000  1.000000  1.000000  0.000000  1.000000  0.000000  \n",
              "\n",
              "[4 rows x 100 columns]"
            ],
            "text/html": [
              "\n",
              "  <div id=\"df-772eaa6c-9a97-42f1-916c-63e816b2bd2c\">\n",
              "    <div class=\"colab-df-container\">\n",
              "      <div>\n",
              "<style scoped>\n",
              "    .dataframe tbody tr th:only-of-type {\n",
              "        vertical-align: middle;\n",
              "    }\n",
              "\n",
              "    .dataframe tbody tr th {\n",
              "        vertical-align: top;\n",
              "    }\n",
              "\n",
              "    .dataframe thead th {\n",
              "        text-align: right;\n",
              "    }\n",
              "</style>\n",
              "<table border=\"1\" class=\"dataframe\">\n",
              "  <thead>\n",
              "    <tr style=\"text-align: right;\">\n",
              "      <th></th>\n",
              "      <th>0</th>\n",
              "      <th>1</th>\n",
              "      <th>2</th>\n",
              "      <th>3</th>\n",
              "      <th>4</th>\n",
              "      <th>5</th>\n",
              "      <th>6</th>\n",
              "      <th>7</th>\n",
              "      <th>8</th>\n",
              "      <th>9</th>\n",
              "      <th>...</th>\n",
              "      <th>90</th>\n",
              "      <th>91</th>\n",
              "      <th>92</th>\n",
              "      <th>93</th>\n",
              "      <th>94</th>\n",
              "      <th>95</th>\n",
              "      <th>96</th>\n",
              "      <th>97</th>\n",
              "      <th>98</th>\n",
              "      <th>99</th>\n",
              "    </tr>\n",
              "  </thead>\n",
              "  <tbody>\n",
              "    <tr>\n",
              "      <th>0</th>\n",
              "      <td>1.000000</td>\n",
              "      <td>1.000000</td>\n",
              "      <td>1.000000</td>\n",
              "      <td>1.000000</td>\n",
              "      <td>1.000000</td>\n",
              "      <td>1.000000</td>\n",
              "      <td>1.000000</td>\n",
              "      <td>1.000000</td>\n",
              "      <td>1.000000</td>\n",
              "      <td>1.000000</td>\n",
              "      <td>...</td>\n",
              "      <td>1.000000</td>\n",
              "      <td>1.000000</td>\n",
              "      <td>1.000000</td>\n",
              "      <td>1.000000</td>\n",
              "      <td>1.000000</td>\n",
              "      <td>1.000000</td>\n",
              "      <td>1.000000</td>\n",
              "      <td>1.000000</td>\n",
              "      <td>1.000000</td>\n",
              "      <td>1.000000</td>\n",
              "    </tr>\n",
              "    <tr>\n",
              "      <th>1</th>\n",
              "      <td>-0.769891</td>\n",
              "      <td>-0.733218</td>\n",
              "      <td>-0.345722</td>\n",
              "      <td>0.332180</td>\n",
              "      <td>-0.941972</td>\n",
              "      <td>-0.210100</td>\n",
              "      <td>-0.491158</td>\n",
              "      <td>0.733297</td>\n",
              "      <td>-0.190021</td>\n",
              "      <td>-0.846675</td>\n",
              "      <td>...</td>\n",
              "      <td>0.943838</td>\n",
              "      <td>-0.817100</td>\n",
              "      <td>-0.576838</td>\n",
              "      <td>-0.299388</td>\n",
              "      <td>0.407078</td>\n",
              "      <td>0.202119</td>\n",
              "      <td>0.653157</td>\n",
              "      <td>0.093394</td>\n",
              "      <td>0.938134</td>\n",
              "      <td>-0.823252</td>\n",
              "    </tr>\n",
              "    <tr>\n",
              "      <th>2</th>\n",
              "      <td>0.218133</td>\n",
              "      <td>-0.518821</td>\n",
              "      <td>0.718275</td>\n",
              "      <td>0.082324</td>\n",
              "      <td>0.467497</td>\n",
              "      <td>0.604094</td>\n",
              "      <td>-0.886230</td>\n",
              "      <td>-0.557942</td>\n",
              "      <td>-0.367807</td>\n",
              "      <td>0.686449</td>\n",
              "      <td>...</td>\n",
              "      <td>0.323942</td>\n",
              "      <td>0.179462</td>\n",
              "      <td>0.590151</td>\n",
              "      <td>0.004873</td>\n",
              "      <td>-0.656745</td>\n",
              "      <td>-0.679931</td>\n",
              "      <td>-0.334597</td>\n",
              "      <td>0.661421</td>\n",
              "      <td>-0.344930</td>\n",
              "      <td>0.926978</td>\n",
              "    </tr>\n",
              "    <tr>\n",
              "      <th>3</th>\n",
              "      <td>0.000000</td>\n",
              "      <td>0.000000</td>\n",
              "      <td>0.000000</td>\n",
              "      <td>1.000000</td>\n",
              "      <td>0.000000</td>\n",
              "      <td>0.000000</td>\n",
              "      <td>1.000000</td>\n",
              "      <td>1.000000</td>\n",
              "      <td>1.000000</td>\n",
              "      <td>0.000000</td>\n",
              "      <td>...</td>\n",
              "      <td>1.000000</td>\n",
              "      <td>0.000000</td>\n",
              "      <td>0.000000</td>\n",
              "      <td>0.000000</td>\n",
              "      <td>1.000000</td>\n",
              "      <td>1.000000</td>\n",
              "      <td>1.000000</td>\n",
              "      <td>0.000000</td>\n",
              "      <td>1.000000</td>\n",
              "      <td>0.000000</td>\n",
              "    </tr>\n",
              "  </tbody>\n",
              "</table>\n",
              "<p>4 rows × 100 columns</p>\n",
              "</div>\n",
              "      <button class=\"colab-df-convert\" onclick=\"convertToInteractive('df-772eaa6c-9a97-42f1-916c-63e816b2bd2c')\"\n",
              "              title=\"Convert this dataframe to an interactive table.\"\n",
              "              style=\"display:none;\">\n",
              "        \n",
              "  <svg xmlns=\"http://www.w3.org/2000/svg\" height=\"24px\"viewBox=\"0 0 24 24\"\n",
              "       width=\"24px\">\n",
              "    <path d=\"M0 0h24v24H0V0z\" fill=\"none\"/>\n",
              "    <path d=\"M18.56 5.44l.94 2.06.94-2.06 2.06-.94-2.06-.94-.94-2.06-.94 2.06-2.06.94zm-11 1L8.5 8.5l.94-2.06 2.06-.94-2.06-.94L8.5 2.5l-.94 2.06-2.06.94zm10 10l.94 2.06.94-2.06 2.06-.94-2.06-.94-.94-2.06-.94 2.06-2.06.94z\"/><path d=\"M17.41 7.96l-1.37-1.37c-.4-.4-.92-.59-1.43-.59-.52 0-1.04.2-1.43.59L10.3 9.45l-7.72 7.72c-.78.78-.78 2.05 0 2.83L4 21.41c.39.39.9.59 1.41.59.51 0 1.02-.2 1.41-.59l7.78-7.78 2.81-2.81c.8-.78.8-2.07 0-2.86zM5.41 20L4 18.59l7.72-7.72 1.47 1.35L5.41 20z\"/>\n",
              "  </svg>\n",
              "      </button>\n",
              "      \n",
              "  <style>\n",
              "    .colab-df-container {\n",
              "      display:flex;\n",
              "      flex-wrap:wrap;\n",
              "      gap: 12px;\n",
              "    }\n",
              "\n",
              "    .colab-df-convert {\n",
              "      background-color: #E8F0FE;\n",
              "      border: none;\n",
              "      border-radius: 50%;\n",
              "      cursor: pointer;\n",
              "      display: none;\n",
              "      fill: #1967D2;\n",
              "      height: 32px;\n",
              "      padding: 0 0 0 0;\n",
              "      width: 32px;\n",
              "    }\n",
              "\n",
              "    .colab-df-convert:hover {\n",
              "      background-color: #E2EBFA;\n",
              "      box-shadow: 0px 1px 2px rgba(60, 64, 67, 0.3), 0px 1px 3px 1px rgba(60, 64, 67, 0.15);\n",
              "      fill: #174EA6;\n",
              "    }\n",
              "\n",
              "    [theme=dark] .colab-df-convert {\n",
              "      background-color: #3B4455;\n",
              "      fill: #D2E3FC;\n",
              "    }\n",
              "\n",
              "    [theme=dark] .colab-df-convert:hover {\n",
              "      background-color: #434B5C;\n",
              "      box-shadow: 0px 1px 3px 1px rgba(0, 0, 0, 0.15);\n",
              "      filter: drop-shadow(0px 1px 2px rgba(0, 0, 0, 0.3));\n",
              "      fill: #FFFFFF;\n",
              "    }\n",
              "  </style>\n",
              "\n",
              "      <script>\n",
              "        const buttonEl =\n",
              "          document.querySelector('#df-772eaa6c-9a97-42f1-916c-63e816b2bd2c button.colab-df-convert');\n",
              "        buttonEl.style.display =\n",
              "          google.colab.kernel.accessAllowed ? 'block' : 'none';\n",
              "\n",
              "        async function convertToInteractive(key) {\n",
              "          const element = document.querySelector('#df-772eaa6c-9a97-42f1-916c-63e816b2bd2c');\n",
              "          const dataTable =\n",
              "            await google.colab.kernel.invokeFunction('convertToInteractive',\n",
              "                                                     [key], {});\n",
              "          if (!dataTable) return;\n",
              "\n",
              "          const docLinkHtml = 'Like what you see? Visit the ' +\n",
              "            '<a target=\"_blank\" href=https://colab.research.google.com/notebooks/data_table.ipynb>data table notebook</a>'\n",
              "            + ' to learn more about interactive tables.';\n",
              "          element.innerHTML = '';\n",
              "          dataTable['output_type'] = 'display_data';\n",
              "          await google.colab.output.renderOutput(dataTable, element);\n",
              "          const docLink = document.createElement('div');\n",
              "          docLink.innerHTML = docLinkHtml;\n",
              "          element.appendChild(docLink);\n",
              "        }\n",
              "      </script>\n",
              "    </div>\n",
              "  </div>\n",
              "  "
            ]
          },
          "metadata": {},
          "execution_count": 14
        }
      ]
    },
    {
      "cell_type": "code",
      "source": [
        "def generate_dataset(m, n, seed1, seed2):\n",
        "    X1_raw = generate_points(m, n, seed1)\n",
        "    X1 = np.transpose(X1_raw)\n",
        "    X = np.vstack((np.ones((1,100)), X1))\n",
        "\n",
        "    w = random_boundary(seed2)\n",
        "\n",
        "    Y1_raw = predict(X, w)\n",
        "    Y1 = Y1_raw.reshape(1, Y1_raw.shape[0])\n",
        "    Y = Y1\n",
        "\n",
        "    return X, Y, w"
      ],
      "metadata": {
        "id": "Xr9NXZwIWeW8"
      },
      "execution_count": 15,
      "outputs": []
    },
    {
      "cell_type": "code",
      "source": [
        "def plot(X, Y, w):\n",
        "  # Visualize the data:\n",
        "  fig, ax = plt.subplots()\n",
        "  X1 = np.transpose(X)\n",
        "  ax.scatter(X1[:, 1], X1[:, 2], marker='o', c=predict(X,w), s=25, edgecolor='k')\n",
        "\n",
        "  # the decision boundary chracterized by vector w\n",
        "  xp = np.array((-1,1))\n",
        "  yp = -(w[1]/w[2]) * xp - (w[0]/w[2])\n",
        "\n",
        "  plt.axis([-1.1, 1.1, -1.1, 1.1])\n",
        "  plt.plot(xp, yp, \"r-\") # decision boundary\n",
        "  plt.show()"
      ],
      "metadata": {
        "id": "PNtl2VaiXsXM"
      },
      "execution_count": 16,
      "outputs": []
    },
    {
      "cell_type": "code",
      "source": [
        "X, Y, w = generate_dataset(100, 2, 56, 67)\n",
        "df = pd.DataFrame(X)\n",
        "df = df.append(pd.DataFrame(Y), ignore_index = True)\n",
        "df"
      ],
      "metadata": {
        "colab": {
          "base_uri": "https://localhost:8080/",
          "height": 268
        },
        "id": "GuA159MIXcZd",
        "outputId": "0763e6d2-43df-4b22-c605-9e3f622a19e8"
      },
      "execution_count": 17,
      "outputs": [
        {
          "output_type": "execute_result",
          "data": {
            "text/plain": [
              "         0         1         2         3         4         5         6   \\\n",
              "0  1.000000  1.000000  1.000000  1.000000  1.000000  1.000000  1.000000   \n",
              "1  0.968384  0.347403 -0.291107 -0.504301  0.754603 -0.347733  0.668435   \n",
              "2 -0.333175 -0.607219  0.626732 -0.082777 -0.216683 -0.819810 -0.807577   \n",
              "3  0.000000  1.000000  1.000000  1.000000  0.000000  1.000000  0.000000   \n",
              "\n",
              "         7         8         9   ...        90        91        92        93  \\\n",
              "0  1.000000  1.000000  1.000000  ...  1.000000  1.000000  1.000000  1.000000   \n",
              "1  0.295090  0.699481 -0.118263  ... -0.545233  0.273549 -0.621868 -0.321674   \n",
              "2  0.099008 -0.469365  0.761771  ... -0.357984  0.335698  0.461922  0.115326   \n",
              "3  0.000000  0.000000  1.000000  ...  1.000000  0.000000  1.000000  1.000000   \n",
              "\n",
              "         94        95        96        97        98        99  \n",
              "0  1.000000  1.000000  1.000000  1.000000  1.000000  1.000000  \n",
              "1 -0.884612 -0.777022  0.067460  0.819758 -0.906281  0.962714  \n",
              "2  0.721441 -0.626631 -0.050359  0.956502 -0.918007 -0.065409  \n",
              "3  1.000000  1.000000  1.000000  0.000000  1.000000  0.000000  \n",
              "\n",
              "[4 rows x 100 columns]"
            ],
            "text/html": [
              "\n",
              "  <div id=\"df-8a4de1aa-0ba6-4341-80d4-5f114826ab19\">\n",
              "    <div class=\"colab-df-container\">\n",
              "      <div>\n",
              "<style scoped>\n",
              "    .dataframe tbody tr th:only-of-type {\n",
              "        vertical-align: middle;\n",
              "    }\n",
              "\n",
              "    .dataframe tbody tr th {\n",
              "        vertical-align: top;\n",
              "    }\n",
              "\n",
              "    .dataframe thead th {\n",
              "        text-align: right;\n",
              "    }\n",
              "</style>\n",
              "<table border=\"1\" class=\"dataframe\">\n",
              "  <thead>\n",
              "    <tr style=\"text-align: right;\">\n",
              "      <th></th>\n",
              "      <th>0</th>\n",
              "      <th>1</th>\n",
              "      <th>2</th>\n",
              "      <th>3</th>\n",
              "      <th>4</th>\n",
              "      <th>5</th>\n",
              "      <th>6</th>\n",
              "      <th>7</th>\n",
              "      <th>8</th>\n",
              "      <th>9</th>\n",
              "      <th>...</th>\n",
              "      <th>90</th>\n",
              "      <th>91</th>\n",
              "      <th>92</th>\n",
              "      <th>93</th>\n",
              "      <th>94</th>\n",
              "      <th>95</th>\n",
              "      <th>96</th>\n",
              "      <th>97</th>\n",
              "      <th>98</th>\n",
              "      <th>99</th>\n",
              "    </tr>\n",
              "  </thead>\n",
              "  <tbody>\n",
              "    <tr>\n",
              "      <th>0</th>\n",
              "      <td>1.000000</td>\n",
              "      <td>1.000000</td>\n",
              "      <td>1.000000</td>\n",
              "      <td>1.000000</td>\n",
              "      <td>1.000000</td>\n",
              "      <td>1.000000</td>\n",
              "      <td>1.000000</td>\n",
              "      <td>1.000000</td>\n",
              "      <td>1.000000</td>\n",
              "      <td>1.000000</td>\n",
              "      <td>...</td>\n",
              "      <td>1.000000</td>\n",
              "      <td>1.000000</td>\n",
              "      <td>1.000000</td>\n",
              "      <td>1.000000</td>\n",
              "      <td>1.000000</td>\n",
              "      <td>1.000000</td>\n",
              "      <td>1.000000</td>\n",
              "      <td>1.000000</td>\n",
              "      <td>1.000000</td>\n",
              "      <td>1.000000</td>\n",
              "    </tr>\n",
              "    <tr>\n",
              "      <th>1</th>\n",
              "      <td>0.968384</td>\n",
              "      <td>0.347403</td>\n",
              "      <td>-0.291107</td>\n",
              "      <td>-0.504301</td>\n",
              "      <td>0.754603</td>\n",
              "      <td>-0.347733</td>\n",
              "      <td>0.668435</td>\n",
              "      <td>0.295090</td>\n",
              "      <td>0.699481</td>\n",
              "      <td>-0.118263</td>\n",
              "      <td>...</td>\n",
              "      <td>-0.545233</td>\n",
              "      <td>0.273549</td>\n",
              "      <td>-0.621868</td>\n",
              "      <td>-0.321674</td>\n",
              "      <td>-0.884612</td>\n",
              "      <td>-0.777022</td>\n",
              "      <td>0.067460</td>\n",
              "      <td>0.819758</td>\n",
              "      <td>-0.906281</td>\n",
              "      <td>0.962714</td>\n",
              "    </tr>\n",
              "    <tr>\n",
              "      <th>2</th>\n",
              "      <td>-0.333175</td>\n",
              "      <td>-0.607219</td>\n",
              "      <td>0.626732</td>\n",
              "      <td>-0.082777</td>\n",
              "      <td>-0.216683</td>\n",
              "      <td>-0.819810</td>\n",
              "      <td>-0.807577</td>\n",
              "      <td>0.099008</td>\n",
              "      <td>-0.469365</td>\n",
              "      <td>0.761771</td>\n",
              "      <td>...</td>\n",
              "      <td>-0.357984</td>\n",
              "      <td>0.335698</td>\n",
              "      <td>0.461922</td>\n",
              "      <td>0.115326</td>\n",
              "      <td>0.721441</td>\n",
              "      <td>-0.626631</td>\n",
              "      <td>-0.050359</td>\n",
              "      <td>0.956502</td>\n",
              "      <td>-0.918007</td>\n",
              "      <td>-0.065409</td>\n",
              "    </tr>\n",
              "    <tr>\n",
              "      <th>3</th>\n",
              "      <td>0.000000</td>\n",
              "      <td>1.000000</td>\n",
              "      <td>1.000000</td>\n",
              "      <td>1.000000</td>\n",
              "      <td>0.000000</td>\n",
              "      <td>1.000000</td>\n",
              "      <td>0.000000</td>\n",
              "      <td>0.000000</td>\n",
              "      <td>0.000000</td>\n",
              "      <td>1.000000</td>\n",
              "      <td>...</td>\n",
              "      <td>1.000000</td>\n",
              "      <td>0.000000</td>\n",
              "      <td>1.000000</td>\n",
              "      <td>1.000000</td>\n",
              "      <td>1.000000</td>\n",
              "      <td>1.000000</td>\n",
              "      <td>1.000000</td>\n",
              "      <td>0.000000</td>\n",
              "      <td>1.000000</td>\n",
              "      <td>0.000000</td>\n",
              "    </tr>\n",
              "  </tbody>\n",
              "</table>\n",
              "<p>4 rows × 100 columns</p>\n",
              "</div>\n",
              "      <button class=\"colab-df-convert\" onclick=\"convertToInteractive('df-8a4de1aa-0ba6-4341-80d4-5f114826ab19')\"\n",
              "              title=\"Convert this dataframe to an interactive table.\"\n",
              "              style=\"display:none;\">\n",
              "        \n",
              "  <svg xmlns=\"http://www.w3.org/2000/svg\" height=\"24px\"viewBox=\"0 0 24 24\"\n",
              "       width=\"24px\">\n",
              "    <path d=\"M0 0h24v24H0V0z\" fill=\"none\"/>\n",
              "    <path d=\"M18.56 5.44l.94 2.06.94-2.06 2.06-.94-2.06-.94-.94-2.06-.94 2.06-2.06.94zm-11 1L8.5 8.5l.94-2.06 2.06-.94-2.06-.94L8.5 2.5l-.94 2.06-2.06.94zm10 10l.94 2.06.94-2.06 2.06-.94-2.06-.94-.94-2.06-.94 2.06-2.06.94z\"/><path d=\"M17.41 7.96l-1.37-1.37c-.4-.4-.92-.59-1.43-.59-.52 0-1.04.2-1.43.59L10.3 9.45l-7.72 7.72c-.78.78-.78 2.05 0 2.83L4 21.41c.39.39.9.59 1.41.59.51 0 1.02-.2 1.41-.59l7.78-7.78 2.81-2.81c.8-.78.8-2.07 0-2.86zM5.41 20L4 18.59l7.72-7.72 1.47 1.35L5.41 20z\"/>\n",
              "  </svg>\n",
              "      </button>\n",
              "      \n",
              "  <style>\n",
              "    .colab-df-container {\n",
              "      display:flex;\n",
              "      flex-wrap:wrap;\n",
              "      gap: 12px;\n",
              "    }\n",
              "\n",
              "    .colab-df-convert {\n",
              "      background-color: #E8F0FE;\n",
              "      border: none;\n",
              "      border-radius: 50%;\n",
              "      cursor: pointer;\n",
              "      display: none;\n",
              "      fill: #1967D2;\n",
              "      height: 32px;\n",
              "      padding: 0 0 0 0;\n",
              "      width: 32px;\n",
              "    }\n",
              "\n",
              "    .colab-df-convert:hover {\n",
              "      background-color: #E2EBFA;\n",
              "      box-shadow: 0px 1px 2px rgba(60, 64, 67, 0.3), 0px 1px 3px 1px rgba(60, 64, 67, 0.15);\n",
              "      fill: #174EA6;\n",
              "    }\n",
              "\n",
              "    [theme=dark] .colab-df-convert {\n",
              "      background-color: #3B4455;\n",
              "      fill: #D2E3FC;\n",
              "    }\n",
              "\n",
              "    [theme=dark] .colab-df-convert:hover {\n",
              "      background-color: #434B5C;\n",
              "      box-shadow: 0px 1px 3px 1px rgba(0, 0, 0, 0.15);\n",
              "      filter: drop-shadow(0px 1px 2px rgba(0, 0, 0, 0.3));\n",
              "      fill: #FFFFFF;\n",
              "    }\n",
              "  </style>\n",
              "\n",
              "      <script>\n",
              "        const buttonEl =\n",
              "          document.querySelector('#df-8a4de1aa-0ba6-4341-80d4-5f114826ab19 button.colab-df-convert');\n",
              "        buttonEl.style.display =\n",
              "          google.colab.kernel.accessAllowed ? 'block' : 'none';\n",
              "\n",
              "        async function convertToInteractive(key) {\n",
              "          const element = document.querySelector('#df-8a4de1aa-0ba6-4341-80d4-5f114826ab19');\n",
              "          const dataTable =\n",
              "            await google.colab.kernel.invokeFunction('convertToInteractive',\n",
              "                                                     [key], {});\n",
              "          if (!dataTable) return;\n",
              "\n",
              "          const docLinkHtml = 'Like what you see? Visit the ' +\n",
              "            '<a target=\"_blank\" href=https://colab.research.google.com/notebooks/data_table.ipynb>data table notebook</a>'\n",
              "            + ' to learn more about interactive tables.';\n",
              "          element.innerHTML = '';\n",
              "          dataTable['output_type'] = 'display_data';\n",
              "          await google.colab.output.renderOutput(dataTable, element);\n",
              "          const docLink = document.createElement('div');\n",
              "          docLink.innerHTML = docLinkHtml;\n",
              "          element.appendChild(docLink);\n",
              "        }\n",
              "      </script>\n",
              "    </div>\n",
              "  </div>\n",
              "  "
            ]
          },
          "metadata": {},
          "execution_count": 17
        }
      ]
    },
    {
      "cell_type": "code",
      "source": [
        "plot(X, Y, w)"
      ],
      "metadata": {
        "colab": {
          "base_uri": "https://localhost:8080/",
          "height": 265
        },
        "id": "biYff2vuYFXG",
        "outputId": "e8cb4212-780a-44f8-df24-2e2134827462"
      },
      "execution_count": 18,
      "outputs": [
        {
          "output_type": "display_data",
          "data": {
            "text/plain": [
              "<Figure size 432x288 with 1 Axes>"
            ],
            "image/png": "[encoded data removed]"
          },
          "metadata": {
            "needs_background": "light"
          }
        }
      ]
    },
    {
      "cell_type": "markdown",
      "metadata": {
        "id": "4NFz-HAQDDX6"
      },
      "source": [
        "## **3 - Implement your functions**\n",
        "\n",
        "Complete the function implementations below. Replace the \"None\" instances with your code."
      ]
    },
    {
      "cell_type": "markdown",
      "metadata": {
        "id": "W3kXcODkrt4i"
      },
      "source": [
        "### **Parameter Initialization**\n",
        "\n"
      ]
    },
    {
      "cell_type": "code",
      "execution_count": 19,
      "metadata": {
        "id": "kxdrnCetgL_Q"
      },
      "outputs": [],
      "source": [
        "def init_parameters(n):\n",
        "  np.random.seed(2)\n",
        "  # -- start of your code\n",
        "  w = np.zeros((n+1,1))\n",
        "  # -- end of your code\n",
        "\n",
        "  assert(w.shape == (n+1,1))\n",
        "  return (w)"
      ]
    },
    {
      "cell_type": "markdown",
      "metadata": {
        "id": "E-k_s0hUqWxF"
      },
      "source": [
        "### **One Forward Pass**\n",
        "$A = \\sigma(w^T X) = (a^{(1)}, a^{(2)}, ..., a^{(m-1)}, a^{(m)})$"
      ]
    },
    {
      "cell_type": "code",
      "execution_count": 20,
      "metadata": {
        "id": "FlgTy8g1nmG0"
      },
      "outputs": [],
      "source": [
        "def forward_pass(X, w):\n",
        "  # Hint: use scipy.special.expit as sigmoid function\n",
        "  # -- start of your code\n",
        "  A = scipy.special.expit(np.matmul(np.transpose(w), X))\n",
        "  # -- end of your code\n",
        "  \n",
        "  assert(A.shape == (1, X.shape[1]))\n",
        "  return A\n",
        "\n",
        "# The expit function, also known as the logistic sigmoid function, \n",
        "# is defined as expit(x) = 1/(1+exp(-x)) \n",
        "# exp(-x) = e^-x"
      ]
    },
    {
      "cell_type": "markdown",
      "metadata": {
        "id": "PqIvXF8RuNuc"
      },
      "source": [
        "### **Calculating the Loss (Cross-Entropy Loss)**\n",
        "\n",
        "$$\\mathcal{L}(A,Y) = -Y\\log(A)-(1-Y)\\log(1-A)\\tag{5}$$"
      ]
    },
    {
      "cell_type": "code",
      "execution_count": 21,
      "metadata": {
        "id": "eyPFCG9luRRY"
      },
      "outputs": [],
      "source": [
        "def calculate_loss(A, Y):\n",
        "\n",
        "  # -- start of your code\n",
        "  L = -Y * np.log(A) + -(1-Y) * np.log(1-A)\n",
        "  # -- end of your code\n",
        "  \n",
        "  assert(L.shape == Y.shape)\n",
        "  return L"
      ]
    },
    {
      "cell_type": "markdown",
      "metadata": {
        "id": "VpbSm3FurJN7"
      },
      "source": [
        "### **Calculating the Cost**\n",
        "\n",
        "Averaging over the Losses: \n",
        "\n",
        "$$J = \\frac{1}{m} np.sum(L)\\tag{6}$$\n",
        "\n",
        "\n",
        "$$J(A,Y) = \\frac{1}{m}np.sum(-Y\\log(A)-(1-Y)\\log(1-A))\\tag{7}$$"
      ]
    },
    {
      "cell_type": "code",
      "execution_count": 22,
      "metadata": {
        "id": "ff9RUk0Ws2KJ"
      },
      "outputs": [],
      "source": [
        "def calculate_cost(m, loss):\n",
        "\n",
        "  # -- start of your code\n",
        "  cost = (1/m)*np.sum(loss)\n",
        "  # -- end of your code\n",
        "  \n",
        "  assert(isinstance(cost, float) or isinstance(cost, int))\n",
        "  cost = np.squeeze(cost)\n",
        "  assert(cost.shape == ())\n",
        "\n",
        "  return(cost)"
      ]
    },
    {
      "cell_type": "markdown",
      "metadata": {
        "id": "a8JcRyZPvr0b"
      },
      "source": [
        "### **Calculating the Gradients**\n",
        "\n",
        "$$dw := \\frac{\\partial J}{\\partial w} = \\frac{1}{m}X(A-Y)^T\\tag{8}$$\n"
      ]
    },
    {
      "cell_type": "code",
      "execution_count": 23,
      "metadata": {
        "id": "vcj1_jqHwg-i"
      },
      "outputs": [],
      "source": [
        "def calculate_gradients(m, X, Y, A):\n",
        "\n",
        "  # -- start of your code\n",
        "  dw = (1/m)*np.matmul(X, np.transpose((A-Y)))\n",
        "  # -- end of your code\n",
        "\n",
        "  assert(dw.shape == (X.shape[0],1))\n",
        "  return dw"
      ]
    },
    {
      "cell_type": "markdown",
      "metadata": {
        "id": "rvf3osxSqxVP"
      },
      "source": [
        "### **One Optimization/Learning Step**\n",
        "\n",
        "$$w = w - \\alpha \\ dw\\tag{10}$$"
      ]
    },
    {
      "cell_type": "code",
      "execution_count": 24,
      "metadata": {
        "id": "MgupoPg60o8E"
      },
      "outputs": [],
      "source": [
        "def update_parameters(w, dw, learning_rate = 0.01):\n",
        "\n",
        "  # -- start of your code\n",
        "  w_new = w - learning_rate*dw\n",
        "  # -- end of your code\n",
        "\n",
        "  assert(w_new.shape == w.shape)\n",
        "  return w_new"
      ]
    },
    {
      "cell_type": "markdown",
      "metadata": {
        "id": "RwmKzQT47TdU"
      },
      "source": [
        "## **4 - One training step**\n",
        "\n",
        "Test your functions"
      ]
    },
    {
      "cell_type": "code",
      "source": [
        "X, Y, w_ = generate_dataset(100, 2 ,67, 80) "
      ],
      "metadata": {
        "id": "hGv3EfbBWaQK"
      },
      "execution_count": 25,
      "outputs": []
    },
    {
      "cell_type": "code",
      "execution_count": 26,
      "metadata": {
        "id": "x_GjyDKTvIZV",
        "colab": {
          "base_uri": "https://localhost:8080/"
        },
        "outputId": "eb78fe54-db2a-4598-b032-fc8cb846bdd9"
      },
      "outputs": [
        {
          "output_type": "execute_result",
          "data": {
            "text/plain": [
              "2"
            ]
          },
          "metadata": {},
          "execution_count": 26
        }
      ],
      "source": [
        "# dataset stored in X and Y\n",
        "n = X.shape[0] - 1  # number of features\n",
        "m = X.shape[1]      # number of examples/datapoints\n",
        "n"
      ]
    },
    {
      "cell_type": "code",
      "execution_count": 27,
      "metadata": {
        "id": "IotGkZyBDkUx",
        "colab": {
          "base_uri": "https://localhost:8080/"
        },
        "outputId": "f67e7543-38ea-4a00-b0de-73b98b14622d"
      },
      "outputs": [
        {
          "output_type": "stream",
          "name": "stdout",
          "text": [
            "[[0.]\n",
            " [0.]\n",
            " [0.]]\n"
          ]
        }
      ],
      "source": [
        "# init\n",
        "w = init_parameters(n)\n",
        "print(w)"
      ]
    },
    {
      "cell_type": "code",
      "execution_count": 28,
      "metadata": {
        "id": "tpDL3WYQxwDp",
        "colab": {
          "base_uri": "https://localhost:8080/"
        },
        "outputId": "c51c5d3f-274b-4596-e009-7ffa5141b7cf"
      },
      "outputs": [
        {
          "output_type": "stream",
          "name": "stdout",
          "text": [
            "[[0.5 0.5 0.5 0.5 0.5 0.5 0.5 0.5 0.5 0.5 0.5 0.5 0.5 0.5 0.5 0.5 0.5 0.5\n",
            "  0.5 0.5 0.5 0.5 0.5 0.5 0.5 0.5 0.5 0.5 0.5 0.5 0.5 0.5 0.5 0.5 0.5 0.5\n",
            "  0.5 0.5 0.5 0.5 0.5 0.5 0.5 0.5 0.5 0.5 0.5 0.5 0.5 0.5 0.5 0.5 0.5 0.5\n",
            "  0.5 0.5 0.5 0.5 0.5 0.5 0.5 0.5 0.5 0.5 0.5 0.5 0.5 0.5 0.5 0.5 0.5 0.5\n",
            "  0.5 0.5 0.5 0.5 0.5 0.5 0.5 0.5 0.5 0.5 0.5 0.5 0.5 0.5 0.5 0.5 0.5 0.5\n",
            "  0.5 0.5 0.5 0.5 0.5 0.5 0.5 0.5 0.5 0.5]]\n"
          ]
        }
      ],
      "source": [
        "# forward pass\n",
        "A = forward_pass(X, w)\n",
        "print(A)"
      ]
    },
    {
      "cell_type": "code",
      "execution_count": 29,
      "metadata": {
        "id": "6LRvJQ1xyxoJ",
        "colab": {
          "base_uri": "https://localhost:8080/"
        },
        "outputId": "f14c3fe4-54bd-479a-f775-db7fc3cdfa84"
      },
      "outputs": [
        {
          "output_type": "stream",
          "name": "stdout",
          "text": [
            "[[0.69314718 0.69314718 0.69314718 0.69314718 0.69314718 0.69314718\n",
            "  0.69314718 0.69314718 0.69314718 0.69314718 0.69314718 0.69314718\n",
            "  0.69314718 0.69314718 0.69314718 0.69314718 0.69314718 0.69314718\n",
            "  0.69314718 0.69314718 0.69314718 0.69314718 0.69314718 0.69314718\n",
            "  0.69314718 0.69314718 0.69314718 0.69314718 0.69314718 0.69314718\n",
            "  0.69314718 0.69314718 0.69314718 0.69314718 0.69314718 0.69314718\n",
            "  0.69314718 0.69314718 0.69314718 0.69314718 0.69314718 0.69314718\n",
            "  0.69314718 0.69314718 0.69314718 0.69314718 0.69314718 0.69314718\n",
            "  0.69314718 0.69314718 0.69314718 0.69314718 0.69314718 0.69314718\n",
            "  0.69314718 0.69314718 0.69314718 0.69314718 0.69314718 0.69314718\n",
            "  0.69314718 0.69314718 0.69314718 0.69314718 0.69314718 0.69314718\n",
            "  0.69314718 0.69314718 0.69314718 0.69314718 0.69314718 0.69314718\n",
            "  0.69314718 0.69314718 0.69314718 0.69314718 0.69314718 0.69314718\n",
            "  0.69314718 0.69314718 0.69314718 0.69314718 0.69314718 0.69314718\n",
            "  0.69314718 0.69314718 0.69314718 0.69314718 0.69314718 0.69314718\n",
            "  0.69314718 0.69314718 0.69314718 0.69314718 0.69314718 0.69314718\n",
            "  0.69314718 0.69314718 0.69314718 0.69314718]]\n"
          ]
        }
      ],
      "source": [
        "# loss\n",
        "loss = calculate_loss(A,Y)\n",
        "print(loss)"
      ]
    },
    {
      "cell_type": "code",
      "execution_count": 30,
      "metadata": {
        "colab": {
          "base_uri": "https://localhost:8080/"
        },
        "id": "JHGEAd8RzH55",
        "outputId": "5b4fd19b-38ff-47a6-be65-64018ae99c8d"
      },
      "outputs": [
        {
          "output_type": "stream",
          "name": "stdout",
          "text": [
            "0.6931471805599453\n"
          ]
        }
      ],
      "source": [
        "# cost\n",
        "cost = calculate_cost(m,loss)\n",
        "print(cost)"
      ]
    },
    {
      "cell_type": "code",
      "execution_count": 31,
      "metadata": {
        "id": "jFBp1Ygu0Ucz",
        "colab": {
          "base_uri": "https://localhost:8080/"
        },
        "outputId": "98ccfed1-9a03-4acc-c388-c52117b27f3f"
      },
      "outputs": [
        {
          "output_type": "stream",
          "name": "stdout",
          "text": [
            "dw = [[-0.2       ]\n",
            " [-0.04168061]\n",
            " [ 0.2548799 ]]\n"
          ]
        }
      ],
      "source": [
        "# calculate gradients\n",
        "dw = calculate_gradients(m, X, Y, A)\n",
        "print (\"dw = \" + str(dw))"
      ]
    },
    {
      "cell_type": "code",
      "execution_count": 32,
      "metadata": {
        "id": "5xHT_NnArJGS",
        "colab": {
          "base_uri": "https://localhost:8080/"
        },
        "outputId": "607a3ec1-d73d-4073-8722-159f2cb69f8d"
      },
      "outputs": [
        {
          "output_type": "stream",
          "name": "stdout",
          "text": [
            "Parameters and Cost Before Update\n",
            "w = [[0.]\n",
            " [0.]\n",
            " [0.]]\n",
            "Cost = 0.6931471805599453\n",
            "\n",
            "Parameters and Cost After Update\n",
            "w = [[ 2.00000000e-04]\n",
            " [ 4.16806085e-05]\n",
            " [-2.54879900e-04]]\n",
            "Cost = 0.6930404890638052\n"
          ]
        }
      ],
      "source": [
        "# update parameters\n",
        "\n",
        "# Note: The size of the step is controlled by the learning_rate\n",
        "learning_rate = 0.001\n",
        "\n",
        "print(\"Parameters and Cost Before Update\")\n",
        "print(\"w = \" + str(w))\n",
        "print(\"Cost = \" + str(cost))\n",
        "\n",
        "w = update_parameters(w,dw, learning_rate)\n",
        "\n",
        "print(\"\\nParameters and Cost After Update\")\n",
        "print(\"w = \" + str(w))\n",
        "\n",
        "A = forward_pass(X, w)\n",
        "loss = calculate_loss(A,Y)\n",
        "cost = calculate_cost(m, loss)\n",
        "print(\"Cost = \" + str(cost))"
      ]
    },
    {
      "cell_type": "markdown",
      "metadata": {
        "id": "Ud_l_AGH6U1k"
      },
      "source": [
        "## **5 - Gradient Descent**\n",
        "\n",
        "Train a logistic regression model, i.e. optimize the parameters"
      ]
    },
    {
      "cell_type": "code",
      "execution_count": 33,
      "metadata": {
        "id": "Pyw50WZr6f_M",
        "colab": {
          "base_uri": "https://localhost:8080/"
        },
        "outputId": "06f1ec2b-8b1d-4fc6-dd21-ef53a072e26a"
      },
      "outputs": [
        {
          "output_type": "stream",
          "name": "stdout",
          "text": [
            "Cost after iteration 0: 0.693147\n",
            "Cost after iteration 100: 0.320253\n",
            "Cost after iteration 200: 0.233980\n",
            "Cost after iteration 300: 0.193583\n",
            "Cost after iteration 400: 0.169613\n",
            "Cost after iteration 500: 0.153432\n",
            "Cost after iteration 600: 0.141600\n",
            "Cost after iteration 700: 0.132468\n",
            "Cost after iteration 800: 0.125143\n",
            "Cost after iteration 900: 0.119095\n",
            "Cost after iteration 1000: 0.113987\n",
            "Cost after iteration 1100: 0.109597\n",
            "Cost after iteration 1200: 0.105767\n",
            "Cost after iteration 1300: 0.102385\n",
            "Cost after iteration 1400: 0.099370\n",
            "Cost after iteration 1500: 0.096656\n",
            "Cost after iteration 1600: 0.094197\n",
            "Cost after iteration 1700: 0.091953\n",
            "Cost after iteration 1800: 0.089894\n",
            "Cost after iteration 1900: 0.087995\n"
          ]
        }
      ],
      "source": [
        "# dataset\n",
        "n = X.shape[0] - 1  # number of features\n",
        "m = X.shape[1]      # number of examples/datapoints\n",
        "\n",
        "# init parameters, set hyperparameters\n",
        "w = init_parameters(n)\n",
        "learning_rate = 0.1\n",
        "num_iterations = 2000\n",
        "costs = []\n",
        "print_cost = True\n",
        "\n",
        "for i in range(num_iterations):\n",
        "  # -- start of your code\n",
        "  A = forward_pass(X, w)\n",
        "  loss = calculate_loss(A,Y)\n",
        "  cost = calculate_cost(m,loss)\n",
        "\n",
        "  if i % 100 == 0:\n",
        "    costs.append(cost)\n",
        "\n",
        "  dw = calculate_gradients(m, X, Y, A)\n",
        "  w = update_parameters(w,dw, learning_rate)\n",
        "  # -- end of your code\n",
        "\n",
        "  if print_cost and i%100 == 0:\n",
        "    print (\"Cost after iteration %i: %f\" %(i, cost))"
      ]
    },
    {
      "cell_type": "code",
      "execution_count": 34,
      "metadata": {
        "id": "Rrf3vDTi-tLO",
        "colab": {
          "base_uri": "https://localhost:8080/",
          "height": 295
        },
        "outputId": "e5411191-979d-45f9-9b56-91cfb148a080"
      },
      "outputs": [
        {
          "output_type": "display_data",
          "data": {
            "text/plain": [
              "<Figure size 432x288 with 1 Axes>"
            ],
            "image/png": "[encoded data removed]"
          },
          "metadata": {
            "needs_background": "light"
          }
        }
      ],
      "source": [
        "# Plot learning curve (with costs)\n",
        "costs = np.squeeze(costs)\n",
        "plt.plot(costs)\n",
        "plt.ylabel('cost')\n",
        "plt.xlabel('iterations (per hundreds)')\n",
        "plt.title(\"Learning rate =\" + str(learning_rate))\n",
        "plt.show()"
      ]
    },
    {
      "cell_type": "code",
      "execution_count": 35,
      "metadata": {
        "id": "0QXcxZTDKClR",
        "colab": {
          "base_uri": "https://localhost:8080/"
        },
        "outputId": "e3e52759-84e3-4f0a-8268-b19a5e997853"
      },
      "outputs": [
        {
          "output_type": "stream",
          "name": "stdout",
          "text": [
            "Train accuracy: 0.99 %\n"
          ]
        }
      ],
      "source": [
        "# Evaluate your model - how many points are classified correctly?\n",
        "\n",
        "# -- start of your code\n",
        "\n",
        "y_pred = predict(X, w)\n",
        "accuracy = 1 - np.mean(np.abs(Y - y_pred))\n",
        "\n",
        "# -- end of your code\n",
        "\n",
        "print(\"Train accuracy: {} %\".format(accuracy))"
      ]
    },
    {
      "cell_type": "markdown",
      "source": [
        "##6 - Experiment"
      ],
      "metadata": {
        "id": "7QtJ_XHpJGVG"
      }
    },
    {
      "cell_type": "code",
      "source": [
        "def experiment(learning_rate) : \n",
        "  # dataset\n",
        "  n = X.shape[0] - 1  # number of features\n",
        "  m = X.shape[1]      # number of examples/datapoints\n",
        "\n",
        "  # init parameters, set hyperparameters\n",
        "  w = init_parameters(n)\n",
        "  num_iterations = 2000\n",
        "  costs = []\n",
        "  print_cost = False\n",
        "\n",
        "  for i in range(num_iterations):\n",
        "    # -- start of your code\n",
        "    A = forward_pass(X, w)\n",
        "    loss = calculate_loss(A,Y)\n",
        "    cost = calculate_cost(m,loss)\n",
        "\n",
        "    if i % 100 == 0:\n",
        "      costs.append(cost)\n",
        "\n",
        "    dw = calculate_gradients(m, X, Y, A)\n",
        "    w = update_parameters(w,dw, learning_rate)\n",
        "    # -- end of your code\n",
        "\n",
        "    if print_cost and i%100 == 0:\n",
        "      print (\"Cost after iteration %i: %f\" %(i, cost))\n",
        "  \n",
        "  return costs"
      ],
      "metadata": {
        "id": "ZeG82g4xJOJ0"
      },
      "execution_count": 36,
      "outputs": []
    },
    {
      "cell_type": "code",
      "source": [
        "def visualize(costs, learning_rate):\n",
        "  # Plot learning curve (with costs)\n",
        "  costs = np.squeeze(costs)\n",
        "  plt.plot(costs)\n",
        "  plt.ylabel('cost')\n",
        "  plt.xlabel('iterations (per hundreds)')\n",
        "  plt.title(\"Learning rate =\" + str(learning_rate))\n",
        "  plt.show()\n",
        "  print(\"\\n\\n\\n\\n\")"
      ],
      "metadata": {
        "id": "ZTC-lei1Jkgv"
      },
      "execution_count": 37,
      "outputs": []
    },
    {
      "cell_type": "code",
      "source": [
        "exp_01 = experiment(0.1)\n",
        "exp_001 = experiment(0.01)\n",
        "exp_0001 = experiment(0.001)"
      ],
      "metadata": {
        "id": "WIqSeAr5Ju67"
      },
      "execution_count": 38,
      "outputs": []
    },
    {
      "cell_type": "code",
      "source": [
        "visualize(exp_01,0.1)\n",
        "visualize(exp_001,0.01)\n",
        "visualize(exp_0001,0.001)"
      ],
      "metadata": {
        "colab": {
          "base_uri": "https://localhost:8080/",
          "height": 1000
        },
        "id": "1i-KXdpwKF4z",
        "outputId": "63dd64cc-4121-4796-ca2e-fc990887726c"
      },
      "execution_count": 39,
      "outputs": [
        {
          "output_type": "display_data",
          "data": {
            "text/plain": [
              "<Figure size 432x288 with 1 Axes>"
            ],
            "image/png": "[encoded data removed]"
          },
          "metadata": {
            "needs_background": "light"
          }
        },
        {
          "output_type": "stream",
          "name": "stdout",
          "text": [
            "\n",
            "\n",
            "\n",
            "\n",
            "\n"
          ]
        },
        {
          "output_type": "display_data",
          "data": {
            "text/plain": [
              "<Figure size 432x288 with 1 Axes>"
            ],
            "image/png": "[encoded data removed]"
          },
          "metadata": {
            "needs_background": "light"
          }
        },
        {
          "output_type": "stream",
          "name": "stdout",
          "text": [
            "\n",
            "\n",
            "\n",
            "\n",
            "\n"
          ]
        },
        {
          "output_type": "display_data",
          "data": {
            "text/plain": [
              "<Figure size 432x288 with 1 Axes>"
            ],
            "image/png": "[encoded data removed]"
          },
          "metadata": {
            "needs_background": "light"
          }
        },
        {
          "output_type": "stream",
          "name": "stdout",
          "text": [
            "\n",
            "\n",
            "\n",
            "\n",
            "\n"
          ]
        }
      ]
    }
  ],
  "metadata": {
    "colab": {
      "provenance": []
    },
    "coursera": {
      "course_slug": "neural-networks-deep-learning",
      "graded_item_id": "XaIWT",
      "launcher_item_id": "zAgPl"
    },
    "kernelspec": {
      "display_name": "Python 3.9.13 ('base')",
      "language": "python",
      "name": "python3"
    },
    "language_info": {
      "codemirror_mode": {
        "name": "ipython",
        "version": 3
      },
      "file_extension": ".py",
      "mimetype": "text/x-python",
      "name": "python",
      "nbconvert_exporter": "python",
      "pygments_lexer": "ipython3",
      "version": "3.9.13"
    },
    "vscode": {
      "interpreter": {
        "hash": "53b84495509a55eb1fb216652efdbfb5e8d6c6cd2c4645acb664773ded1e23cd"
      }
    }
  },
  "nbformat": 4,
  "nbformat_minor": 0
}